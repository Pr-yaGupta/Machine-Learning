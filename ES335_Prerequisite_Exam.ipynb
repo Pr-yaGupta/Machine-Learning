{
 "cells": [
  {
   "cell_type": "markdown",
   "id": "96b1b59d-affd-4af2-8fbf-540d129a64f3",
   "metadata": {},
   "source": [
    "# Question 1"
   ]
  },
  {
   "cell_type": "markdown",
   "id": "d825741a-c774-47dc-91e5-9071fadab0c6",
   "metadata": {},
   "source": [
    "- How many multiplications and additions do you need to perform a matrix multiplication between a (n, k) and (k, m) matrix? Explain."
   ]
  },
  {
   "cell_type": "markdown",
   "id": "d084bc5d-851c-402a-9361-efe1d2010a9b",
   "metadata": {},
   "source": [
    "Suppose we have two matrices, matix $A$ of dimension $(n,k)$ and matrix B of dimension $(k,m)$.\n",
    "By multiplying matrix A and B, we will get a resultant matrix $C$ of dimension $(n,m)$.\n",
    "\n",
    "We can calculate the number of multiplication and addition required to perform a matrix multiplication between $A$ and $B$ by analyzing each step involved:\n",
    "\n",
    "### Number of multiplication\n",
    "- For getting $C{ij}$ element of resultant matrix $C$, we multiply row i of matrix $A$ with column j of matrix $B$ element-wise and add them. Since there are $k$ elements in each row and column of matrix $A$ and $B$ respectively, number of multiplication required to get $C{ij}$ element of matrix $C$ is $k$.\n",
    "- There are $n\\times m$ elements in resultant matrix. So, total number of multiplication performed is $n\\times m\\times k$.\n",
    "\n",
    "### Number of addition\n",
    "- For getting $C{ij}$ element of resultant matrix $C$, we multiply row i of matrix $A$ with column j of matrix B element-wise and add them. Since there are $k$ elements in each row and column of matrix A and B respectively, number of addition required to get $C{ij}$ element of matrix $C$ is $(k-1)$.\n",
    "- There are $n\\times m$ elements in resultant matrix. So, total number of addition performed is $n\\times m\\times (k-1)$.\n"
   ]
  },
  {
   "cell_type": "markdown",
   "id": "085cb052-bfd7-4980-bd7b-6d7c8bdb2ba7",
   "metadata": {},
   "source": [
    "# Question 2"
   ]
  },
  {
   "cell_type": "markdown",
   "id": "3254dfab-72ad-40b0-8860-9bde2314f1dd",
   "metadata": {},
   "source": [
    "- Write Python code to multiply the above two matrices. Solve using list of lists and then use numpy. Compare the timing of both solutions. Which one is faster? Why?"
   ]
  },
  {
   "cell_type": "markdown",
   "id": "a2fdfed4-9cfa-47f4-861d-7ce33a2454d9",
   "metadata": {},
   "source": [
    "### Python code to multiply two matrices"
   ]
  },
  {
   "cell_type": "markdown",
   "id": "6709a740-34ee-41ab-803e-36acb28f7413",
   "metadata": {},
   "source": [
    "NumPy matrix multiplication is faster than a loop-based approach $O(n^3)$ because it is implemented in C, takes advantage of hardware optimizations, and uses optimized algorithms specifically designed for matrix multiplication. Note, numpy matrix multiplication can be significantly fast for higher values of n and it is even possible that for smaller values of n, the naive approach is faster as numpy method might have some overhead."
   ]
  },
  {
   "cell_type": "code",
   "execution_count": 40,
   "id": "dbf352af-9a3a-47d4-8a70-4f0ca22dc70f",
   "metadata": {},
   "outputs": [],
   "source": [
    "import numpy as np\n",
    "n = 10\n",
    "k = 15\n",
    "m = 12\n",
    "np.random.seed(0)\n",
    "m1 =  np.random.randint(low =1000, high = 10000,size = (n,k))\n",
    "np.random.seed(1)\n",
    "m2 = np.random.randint(low =1000, high =10000, size = (k,m))\n",
    "#print(m1)\n",
    "#print(m2)"
   ]
  },
  {
   "cell_type": "code",
   "execution_count": 41,
   "id": "315cc286-fccf-4ad1-9923-e6f54ae010e2",
   "metadata": {},
   "outputs": [
    {
     "name": "stdout",
     "output_type": "stream",
     "text": [
      "Mean time for list of list matrix multiplication is 1531.6414999942936 milliseconds\n",
      "The std_dev is 80.86027223582973milliseconds\n"
     ]
    }
   ],
   "source": [
    "#matrix multiplication using list of lists\n",
    "import time\n",
    "p=np.zeros((n,m))\n",
    "def matrix_mul(m1,m2):\n",
    "  for i in range(0, n):\n",
    "      for j in range(0, m):\n",
    "          for l in range(0, k):\n",
    "              p[i][j] += m1[i][l] * m2[l][j]\n",
    "time1 = 0\n",
    "std_dev = 0\n",
    "for i in range(1000):\n",
    "  start = time.perf_counter()\n",
    "  matrix_mul(m1,m2)\n",
    "  end = time.perf_counter()\n",
    "  time1+=end-start\n",
    "  std_dev+= (end-start)**2\n",
    "time1 = time1/1000\n",
    "std_dev = std_dev/1000\n",
    "std_dev = np.sqrt((std_dev - time1**2))*10**6\n",
    "time1 = time1*(10**6)\n",
    "print('Mean time for list of list matrix multiplication is ' + str(time1) +' milliseconds')\n",
    "print('The std_dev is '+ str(std_dev) +'milliseconds')\n"
   ]
  },
  {
   "cell_type": "code",
   "execution_count": 42,
   "id": "c613d077-587d-4212-a9c5-61658dee855e",
   "metadata": {},
   "outputs": [
    {
     "name": "stdout",
     "output_type": "stream",
     "text": [
      "Mean time for numpy inbuilt matrix multiplication is 3.248699998948723 milliseconds\n",
      "The std_dev is 1.2505272121475217 milliseconds\n"
     ]
    }
   ],
   "source": [
    "#matrix multiplication using numpy\n",
    "time_array = np.zeros((1000,))\n",
    "for i in range(1000):\n",
    "  start1 = time.perf_counter()\n",
    "  q = np.matmul(m1,m2)\n",
    "  end1 = time.perf_counter()\n",
    "  time_array[i] = end1-start1\n",
    "print('Mean time for numpy inbuilt matrix multiplication is ' + str(time_array.mean()*(10**6)) +' milliseconds')\n",
    "print('The std_dev is '+ str(time_array.std()*(10**6))+' milliseconds')"
   ]
  },
  {
   "cell_type": "markdown",
   "id": "be3a0596-2140-4d62-8ef3-c31f3d81f4eb",
   "metadata": {},
   "source": [
    "From the above results, we can observe that, computing multiplication of matrices using numpy is faster than using lists. \n",
    "This can be attributed to the following reasons:\n",
    "1. Lists involve non-contiguous memory allocation whereas arrays involve contiguous memory allocation (saves time).\n",
    "2. Some tasks may be executed parallely in case of numpy.\n",
    "3. Effective use of cache in numpy compared to lists.\n",
    "4. The efficiency of NumPy comes from its ability to perform operations on entire arrays at once, leveraging highly optimized C.\n",
    "5. The list of lists approach in Python involves nested loops and individual element-wise operations, which are slower compared to the optimized array operations in NumPy."
   ]
  },
  {
   "cell_type": "markdown",
   "id": "7e1bbe93-47e4-4886-805b-97cda83c5a6c",
   "metadata": {},
   "source": [
    "# Question 3"
   ]
  },
  {
   "cell_type": "markdown",
   "id": "c60d2a81-8236-4af5-af0d-62e31def7ed4",
   "metadata": {},
   "source": [
    "- Finding the highest element in a list requires one pass of the array. Finding the second highest element requires 2 passes of the the array. Using this method, what is the time complexity of finding the median of the array? Can you suggest a better method? Can you implement both these methods in Python and compare against numpy.median routine in terms of time?\r\n"
   ]
  },
  {
   "cell_type": "markdown",
   "id": "958429b9-0098-498b-b099-d899f4925d02",
   "metadata": {},
   "source": [
    "Using this method the time complexity of finding the median would be $O(n^2)$, as we will be going through the entire array $n/2$ times and each pass has $O(n)$ time complexity. The naive approach with the worst time complexity of $O(n\\cdot log(n))$. In this approach, we sort the array and if number of elements is even then average of $A[n//2]$ and $A[n//2+1]$ and if odd number of elements then median will be $A[n//2+1]$. The other approach is of average $O(n)$ runtime. Note, this approach has a worst time complexity of $O(n^2)$, hence we won't look into it."
   ]
  },
  {
   "cell_type": "code",
   "execution_count": 43,
   "id": "7150f263-8d91-4e8b-8547-cf79b39a92e4",
   "metadata": {},
   "outputs": [
    {
     "name": "stdout",
     "output_type": "stream",
     "text": [
      "15.5\n"
     ]
    }
   ],
   "source": [
    "#O(n**2)\n",
    "np.random.seed(3)\n",
    "a = list(np.random.randint(low = 1, high = 30, size = (10,)))\n",
    "# print(a)\n",
    "def middle_element(a):\n",
    "  n = len(a)\n",
    "  if(n%2==0):\n",
    "    max = n//2\n",
    "    while(max>=0):\n",
    "      p = 0\n",
    "      for i in range(len(a)):\n",
    "        if(a[i]>p):\n",
    "          p = a[i]\n",
    "      a.remove(p)\n",
    "      if(max==1):\n",
    "        q = p\n",
    "      max-=1\n",
    "    return((p+q)/2)\n",
    "  else:\n",
    "    max = n//2 -1\n",
    "    while(max>=0):\n",
    "      p =0\n",
    "      for i in range(len(a)):\n",
    "        if(a[i]>p):\n",
    "          p =a[i]\n",
    "      a.remove(p)\n",
    "      max-=1\n",
    "    return p\n",
    "ans = middle_element(a)\n",
    "print(ans)"
   ]
  },
  {
   "cell_type": "code",
   "execution_count": 44,
   "id": "037c4ff6-a379-4004-a0e4-6e2c64f2b11b",
   "metadata": {},
   "outputs": [
    {
     "data": {
      "text/plain": [
       "15.5"
      ]
     },
     "execution_count": 44,
     "metadata": {},
     "output_type": "execute_result"
    }
   ],
   "source": [
    "#using inbuilt sort\n",
    "np.random.seed(3)\n",
    "a = list(np.random.randint(low = 1, high = 30, size = (10,)))\n",
    "def sort_median(a):\n",
    "  n = len(a)\n",
    "  a = sorted (a)\n",
    "  if (n%2==0):\n",
    "    return ((a[n//2-1]+a[n//2])/2)\n",
    "  else:\n",
    "    return a[n//2-1]\n",
    "ans = sort_median(a)\n",
    "ans\n"
   ]
  },
  {
   "cell_type": "code",
   "execution_count": 45,
   "id": "b5d57cfe-a49c-4edf-bf7e-0f56b1f0a10c",
   "metadata": {},
   "outputs": [
    {
     "data": {
      "text/plain": [
       "15.5"
      ]
     },
     "execution_count": 45,
     "metadata": {},
     "output_type": "execute_result"
    }
   ],
   "source": [
    "#using numpy\n",
    "np.random.seed(3)\n",
    "a = list(np.random.randint(low = 1, high = 30, size = (10,)))\n",
    "ans = np.median(a)\n",
    "ans"
   ]
  },
  {
   "cell_type": "code",
   "execution_count": 46,
   "id": "f387ba7a-d8ce-4f0a-aa2a-3ba722c40c74",
   "metadata": {},
   "outputs": [
    {
     "name": "stdout",
     "output_type": "stream",
     "text": [
      "The mean time for O(n^2) approach is 0.00019243210000468024 seconds\n",
      "The std for O(n^2) approach is 1.838185570382012e-05 seconds\n",
      "The mean time for O(nlog(n)) approach is 1.2008299996978167e-05 seconds\n",
      "The std for O(nlog(n)) approach is 1.8226302751294969e-06 seconds\n",
      "The mean time for inbuilt median approach is 2.5849000008292933e-05 seconds\n",
      "The std for inbuilt median approach is 1.3763535850769135e-05 seconds\n"
     ]
    }
   ],
   "source": [
    "# time analysis\n",
    "time1 = np.zeros((1000,))\n",
    "time2 = np.zeros((1000,))\n",
    "time3 = np.zeros((1000,))\n",
    "\n",
    "for i in range(1000):\n",
    "\n",
    "  np.random.seed(3)\n",
    "  a = list(np.random.randint(low = 1, high = 10000, size = (100,)))\n",
    "  start = time.perf_counter()\n",
    "  middle_element(a)\n",
    "  end = time.perf_counter()\n",
    "  time1[i] = end-start\n",
    "\n",
    "  np.random.seed(3)\n",
    "  a = list(np.random.randint(low = 1, high = 10000, size = (100,)))\n",
    "  start2 = time.perf_counter()\n",
    "  sort_median(a)\n",
    "  end2 = time.perf_counter()\n",
    "  time2[i] = end2-start2\n",
    "\n",
    "  np.random.seed(3)\n",
    "  a = list(np.random.randint(low = 1, high = 10000, size = (100,)))\n",
    "  start3 = time.perf_counter()\n",
    "  np.median(a)\n",
    "  end3 = time.perf_counter()\n",
    "  time3[i] = end3-start3\n",
    "\n",
    "print(\"The mean time for O(n^2) approach is \"+str(time1.mean())+\" seconds\")\n",
    "print(\"The std for O(n^2) approach is \"+str(time1.std())+\" seconds\")\n",
    "\n",
    "print(\"The mean time for O(nlog(n)) approach is \"+str(time2.mean())+\" seconds\")\n",
    "print(\"The std for O(nlog(n)) approach is \"+str(time2.std())+\" seconds\")\n",
    "\n",
    "print(\"The mean time for inbuilt median approach is \"+str(time3.mean())+\" seconds\")\n",
    "print(\"The std for inbuilt median approach is \"+str(time3.std())+\" seconds\")"
   ]
  },
  {
   "cell_type": "markdown",
   "id": "86b87fff-0b09-49e7-9206-bf3aa9ef8ed1",
   "metadata": {},
   "source": [
    "We can observe that the optimal method of finding median is using inbuilt sort. \r\n",
    "\r\n",
    "Run time of optimal method used = $O(nlogn)2)$"
   ]
  },
  {
   "cell_type": "markdown",
   "id": "1fa5a937-d8d8-4a9e-9606-9fa65e379989",
   "metadata": {},
   "source": [
    "# Question 4"
   ]
  },
  {
   "cell_type": "markdown",
   "id": "0171d0da-0b35-4cc0-ba5e-a89b4c5ba174",
   "metadata": {},
   "source": [
    "- What is the gradient of the following function with respect to x and y?"
   ]
  },
  {
   "cell_type": "markdown",
   "id": "02acdc74-e203-4037-bd67-28283bb41527",
   "metadata": {},
   "source": [
    "Given function in terms of x and y is $f = x^2y + y^3sin(x)$\n",
    "\n",
    "Gradient of $f$ with respect to x:\n",
    "\n",
    "$\\partial f / \\partial x = 2xy + y^3 cos(x)$\n",
    "\n",
    "Gradient of $f$ with respect to y:\n",
    "\n",
    "$\\partial f / \\partial y = x^2 + 3y^2 sin(x)$"
   ]
  },
  {
   "cell_type": "markdown",
   "id": "ed1fdfbf-d77b-44d5-bad2-e4f16e7ff6a0",
   "metadata": {},
   "source": [
    "# Question 5"
   ]
  },
  {
   "cell_type": "markdown",
   "id": "64a8865a-0e8b-49e7-84e3-b96e4dc9808e",
   "metadata": {},
   "source": [
    "- Use JAX to confirm the gradient evaluated by your method matches the analytical solution corresponding to a few random values of x and y"
   ]
  },
  {
   "cell_type": "code",
   "execution_count": 49,
   "id": "5ad1da41-c137-4b89-b65a-ca0c0a4de217",
   "metadata": {},
   "outputs": [
    {
     "name": "stdout",
     "output_type": "stream",
     "text": [
      "Requirement already satisfied: jax in c:\\users\\priya\\appdata\\local\\programs\\python\\python310\\lib\\site-packages (0.4.23)\n",
      "Requirement already satisfied: jaxlib in c:\\users\\priya\\appdata\\local\\programs\\python\\python310\\lib\\site-packages (0.4.23)\n",
      "Requirement already satisfied: ml-dtypes>=0.2.0 in c:\\users\\priya\\appdata\\local\\programs\\python\\python310\\lib\\site-packages (from jax) (0.2.0)\n",
      "Requirement already satisfied: numpy>=1.22 in c:\\users\\priya\\appdata\\local\\programs\\python\\python310\\lib\\site-packages (from jax) (1.26.1)\n",
      "Requirement already satisfied: opt-einsum in c:\\users\\priya\\appdata\\local\\programs\\python\\python310\\lib\\site-packages (from jax) (3.3.0)\n",
      "Requirement already satisfied: scipy>=1.9 in c:\\users\\priya\\appdata\\local\\programs\\python\\python310\\lib\\site-packages (from jax) (1.11.3)\n",
      "Note: you may need to restart the kernel to use updated packages.\n"
     ]
    },
    {
     "name": "stderr",
     "output_type": "stream",
     "text": [
      "\n",
      "[notice] A new release of pip is available: 23.3.1 -> 23.3.2\n",
      "[notice] To update, run: C:\\Users\\priya\\AppData\\Local\\Programs\\Python\\Python310\\python.exe -m pip install --upgrade pip\n"
     ]
    }
   ],
   "source": [
    "pip install jax jaxlib"
   ]
  },
  {
   "cell_type": "code",
   "execution_count": 51,
   "id": "d4287182-68d3-445f-b31f-b010ee57a5e0",
   "metadata": {},
   "outputs": [
    {
     "name": "stdout",
     "output_type": "stream",
     "text": [
      "Manual\n",
      "Gradient w.r.t x =  0.2709555 Gradient w.r.t y =  0.21522313\n",
      "JAX\n",
      "Gradient w.r.t x =  0.2709555 Gradient y =  0.21522313\n"
     ]
    }
   ],
   "source": [
    "import random\r\n",
    "import jax\r\n",
    "import jax.numpy as npy\r\n",
    "def x_grad(x, y):\r\n",
    "    return 2*x*y + (y**3)*npy.cos(x)\r\n",
    "\r\n",
    "def y_grad(x, y):\r\n",
    "    return (x**2)+ 3*(y**2)*npy.sin(x)\r\n",
    "\r\n",
    "def function(x, y):\r\n",
    "    return (x**2)*y + (y**3)*npy.sin(x)\r\n",
    "  \r\n",
    "\r\n",
    "gradx_jax = jax.grad(function, 0)\r\n",
    "\r\n",
    "grady_jax = jax.grad(function, 1)\r\n",
    "\r\n",
    "x = random.random()\r\n",
    "y = random.random()\r\n",
    "\r\n",
    "gradx_manual = x_grad(x, y)\r\n",
    "grady_manual = y_grad(x, y)\r\n",
    "print(\"Manual\")\r\n",
    "print(\"Gradient w.r.t x = \", gradx_manual, \"Gradient w.r.t y = \", grady_manual)\r\n",
    "print(\"JAX\")\r\n",
    "print(\"Gradient w.r.t x = \",gradx_jax(x, y), \"Gradient y = \",grady_jax(x, y))\r\n",
    "\r\n"
   ]
  },
  {
   "cell_type": "markdown",
   "id": "8376a734-8535-4619-a7a3-6a0094e661d1",
   "metadata": {},
   "source": [
    "# Question 6"
   ]
  },
  {
   "cell_type": "markdown",
   "id": "ecf50e2e-f5d7-42f1-bbde-f017378ce057",
   "metadata": {},
   "source": [
    "- Use sympy to confirm that you obtain the same gradient analytically."
   ]
  },
  {
   "cell_type": "code",
   "execution_count": 52,
   "id": "39ba909a-a1af-4303-96bc-c8c6e064d957",
   "metadata": {},
   "outputs": [
    {
     "name": "stdout",
     "output_type": "stream",
     "text": [
      "x gradient =  2*x*y + y**3*cos(x)\n",
      "y gradient =  x**2 + 3*y**2*sin(x)\n"
     ]
    }
   ],
   "source": [
    "import sympy as sp\r\n",
    "x, y = sp.symbols('x, y')\r\n",
    "f = (x**2)*y + (y**3)*(sp.sin(x))\r\n",
    "print(\"x gradient = \", sp.diff(f, x))\r\n",
    "print(\"y gradient = \", sp.diff(f, y))"
   ]
  },
  {
   "cell_type": "markdown",
   "id": "e1bd7759-afea-44de-b678-2ba075ce1b62",
   "metadata": {},
   "source": [
    "# Question 7"
   ]
  },
  {
   "cell_type": "markdown",
   "id": "b0f5c421-7a67-4d80-a160-ed39d649450d",
   "metadata": {},
   "source": [
    "- Create a Python nested dictionary to represent hierarchical information. We want to store record of students and their marks."
   ]
  },
  {
   "cell_type": "code",
   "execution_count": 53,
   "id": "3e8b509a-04d1-4f1c-95e5-18ac1ec18dd2",
   "metadata": {},
   "outputs": [
    {
     "name": "stdout",
     "output_type": "stream",
     "text": [
      "{2022: {'Branch 1': {'Roll Number': 1, 'Name': 'std1', 'Marks': {'Maths': 88, 'English': 66}}, 'Branch 2': {'Roll Number': 2, 'Name': 'std1', 'Marks': {'Maths': 90, 'English': 56}}}, 2023: {'Branch 1': {'Roll Number': 3, 'Name': 'std1', 'Marks': {'Maths': 36, 'English': 98}}, 'Branch 2': {'Roll Number': 4, 'Name': 'std2', 'Marks': {'Maths': 70, 'English': 67}}}, 2024: {'Branch 1': {'Roll Number': 5, 'Name': 'std3', 'Marks': {'Maths': 84, 'English': 88}}, 'Branch 2': {'Roll Number': 6, 'Name': 'std4', 'Marks': {'Maths': 97, 'English': 97}}}, 2025: {'Branch 1': {'Roll Number': 7, 'Name': 'std5', 'Marks': {'Maths': 60, 'English': 79}}, 'Branch 2': {'Roll Number': 8, 'Name': 'std6', 'Marks': {'Maths': 75, 'English': 85}}}}\n",
      "Student name in 2022, Branch 1, Roll Number 100: std1\n",
      "Maths marks in 2022, Branch 1, Roll Number 100: 88\n"
     ]
    }
   ],
   "source": [
    "records = {2022:{\"Branch 1\":{\"Roll Number\": 1, \n",
    "                                  \"Name\":\"std1\",  \n",
    "                                  \"Marks\":{\"Maths\": 88, \"English\": 66} }, \n",
    "                      \"Branch 2\":{\"Roll Number\": 2, \n",
    "                                  \"Name\":\"std1\",  \n",
    "                                  \"Marks\":{\"Maths\": 90, \"English\": 56} }}, \n",
    "                \n",
    "               2023: {\"Branch 1\":{\"Roll Number\": 3, \n",
    "                                  \"Name\":\"std1\",  \n",
    "                                  \"Marks\":{\"Maths\": 36, \"English\": 98} }, \n",
    "                      \"Branch 2\":{\"Roll Number\": 4, \n",
    "                                  \"Name\":\"std2\",  \n",
    "                                  \"Marks\":{\"Maths\": 70, \"English\": 67} }},\n",
    "                \n",
    "               2024: {\"Branch 1\":{\"Roll Number\": 5, \n",
    "                                  \"Name\":\"std3\",  \n",
    "                                  \"Marks\":{\"Maths\": 84, \"English\": 88} }, \n",
    "                      \"Branch 2\":{\"Roll Number\": 6, \n",
    "                                  \"Name\":\"std4\",  \n",
    "                                  \"Marks\":{\"Maths\": 97, \"English\": 97} }}, \n",
    "                \n",
    "               2025: {\"Branch 1\":{\"Roll Number\": 7, \n",
    "                                  \"Name\":\"std5\",  \n",
    "                                  \"Marks\":{\"Maths\": 60, \"English\": 79} }, \n",
    "                      \"Branch 2\":{\"Roll Number\": 8, \n",
    "                                  \"Name\":\"std6\",  \n",
    "                                  \"Marks\":{\"Maths\": 75, \"English\": 85} }}}\n",
    "print(records)\n",
    "\n",
    "# Accessing information\n",
    "print(\"Student name in 2022, Branch 1, Roll Number 100:\", records[2022][\"Branch 1\"][\"Name\"])\n",
    "print(\"Maths marks in 2022, Branch 1, Roll Number 100:\", records[2022]['Branch 1']['Marks']['Maths'])\n"
   ]
  },
  {
   "cell_type": "markdown",
   "id": "bb26d41e-e90f-4e5b-80fc-87ff2dcd3450",
   "metadata": {},
   "source": [
    "# Question 8"
   ]
  },
  {
   "cell_type": "markdown",
   "id": "07b37a94-6e7a-4f79-8f0f-3e1305e9e855",
   "metadata": {},
   "source": [
    "- Store the same information using Python classes. We have an overall database which is a list of year objects. Each year contains a list of branches. Each branch contains a list of students. Each student has some properties like name, roll number and has marks in some subjects."
   ]
  },
  {
   "cell_type": "code",
   "execution_count": 54,
   "id": "ed134ab5-f0d8-4cfb-9e52-b8a87d9598ac",
   "metadata": {},
   "outputs": [
    {
     "name": "stdout",
     "output_type": "stream",
     "text": [
      "{'Eng': 89, 'Social': 93}\n"
     ]
    }
   ],
   "source": [
    "class year:\n",
    "  def __init__(self, years, branch):\n",
    "    self.years= years\n",
    "    self.branch = branch\n",
    "\n",
    "class Branch:\n",
    "  def __init__(self, branch, student_data):\n",
    "    self.branch = branch\n",
    "    self.student_data = student_data\n",
    "\n",
    "class Data:\n",
    "  def __init__(self, Roll_num, Name, Marks):\n",
    "    self.Roll_num = Roll_num\n",
    "    self.Name = Name\n",
    "    self.Marks= Marks\n",
    "\n",
    "\n",
    "Database = [year(2022, [Branch(\"Branch 1\", [Data(100, \"cat1\", {\"Eng\": 86, \"Social\": 65})]), Branch(\"Branch 2\", [Data(101, \"dog1\", {\"Eng\": 76, \"Social\": 65})])]), \n",
    "            year(2023, [Branch(\"Branch 1\", [Data(102, \"cat2\", {\"Eng\": 89, \"Social\": 93})]), Branch(\"Branch 2\", [Data(103, \"dog2\", {\"Eng\": 84, \"Social\": 83})])]),\n",
    "            year(2024, [Branch(\"Branch 1\", [Data(104, \"cat3\", {\"Eng\": 23, \"Social\": 67})]), Branch(\"Branch 2\", [Data(105, \"dog3\", {\"Eng\": 73, \"Social\": 65})])]),\n",
    "            year(2025, [Branch(\"Branch 1\", [Data(106, \"cat4\", {\"Eng\": 84, \"Social\": 82})]), Branch(\"Branch 2\", [Data(107, \"dog4\", {\"Eng\": 56, \"Social\": 85})])]),\n",
    "            year(2026, [Branch(\"Branch 1\", [Data(108, \"cat5\", {\"Eng\": 90, \"Social\": 63})]), Branch(\"Branch 2\", [Data(109, \"dog5\", {\"Eng\": 74, \"Social\": 87})])])]\n",
    "\n",
    "print(Database[1].branch[0].student_data[0].Marks)"
   ]
  },
  {
   "cell_type": "markdown",
   "id": "51ec397c-4ff6-4f87-aeb9-878c02c3f4cf",
   "metadata": {},
   "source": [
    "# Question 9"
   ]
  },
  {
   "cell_type": "markdown",
   "id": "68558d58-edb6-4242-a2e0-05b04e2bb92c",
   "metadata": {},
   "source": [
    "- Using matplotlib plot the following functions on the domain: x = 0.5 to 100.0 in steps of 0.5."
   ]
  },
  {
   "cell_type": "code",
   "execution_count": 55,
   "id": "eb3c399b-b6b7-4ea6-b83e-1ea8221f2e2a",
   "metadata": {},
   "outputs": [
    {
     "data": {
      "text/plain": [
       "[<matplotlib.lines.Line2D at 0x232a87208b0>]"
      ]
     },
     "execution_count": 55,
     "metadata": {},
     "output_type": "execute_result"
    },
    {
     "data": {
      "image/png": "[encoded data removed]",
      "text/plain": [
       "<Figure size 1000x1000 with 8 Axes>"
      ]
     },
     "metadata": {},
     "output_type": "display_data"
    }
   ],
   "source": [
    "import matplotlib.pyplot as plt\n",
    "x = np.linspace(0.5, 100,200)\n",
    "f1 = x\n",
    "f2 = x**2\n",
    "f3 = x**3/100\n",
    "f4 = np.sin(x)\n",
    "f5 = np.sin(x)/x\n",
    "f6 = np.log(x)\n",
    "f7 = np.exp(x)\n",
    "fig, axs = plt.subplots(4,2, figsize = (10,10))\n",
    "axs[0,0].plot(x,f1, label = 'f1')\n",
    "axs[0,1].plot(x,f2, label = 'f2')\n",
    "axs[1,0].plot(x,f3, label = 'f3')\n",
    "axs[1,1].plot(x,f4, label = 'f4')\n",
    "axs[2,0].plot(x,f5, label ='f5')\n",
    "axs[2,1].plot(x,f6, label = 'f6')\n",
    "axs[3,0].plot(x,f7, label = 'f7')\n"
   ]
  },
  {
   "cell_type": "markdown",
   "id": "6812011f-0c1a-4d03-8735-34ca03dbcd4f",
   "metadata": {},
   "source": [
    "# Question 10"
   ]
  },
  {
   "cell_type": "markdown",
   "id": "9461fb01-7186-4b3d-b9e6-99f780d0d523",
   "metadata": {},
   "source": [
    "- Using numpy generate a matrix of size 20X5 containing random numbers drawn uniformly from the range of 1 to 2. Using Pandas create a dataframe out of this matrix. Name the columns of the dataframe as “a”, “b”, “c”, “d”, “e”. Find the column with the highest standard deviation. Find the row with the lowest mean."
   ]
  },
  {
   "cell_type": "code",
   "execution_count": 56,
   "id": "2ff8be2b-1ab1-42dd-8bb9-8f507403e7b4",
   "metadata": {},
   "outputs": [
    {
     "name": "stdout",
     "output_type": "stream",
     "text": [
      "           a         b         c         d         e\n",
      "0   1.187815  1.952101  1.681612  1.541020  1.707181\n",
      "1   1.263887  1.926726  1.839193  1.726319  1.480240\n",
      "2   1.842103  1.744752  1.660326  1.913975  1.633666\n",
      "3   1.365941  1.552845  1.196381  1.192072  1.725670\n",
      "4   1.784937  1.972098  1.850971  1.543594  1.089791\n",
      "5   1.488873  1.927936  1.787618  1.485094  1.455279\n",
      "6   1.217986  1.177213  1.073624  1.892393  1.640177\n",
      "7   1.143332  1.414127  1.049109  1.209373  1.730708\n",
      "8   1.651123  1.478978  1.274781  1.652223  1.956450\n",
      "9   1.435521  1.070133  1.057731  1.082871  1.959707\n",
      "10  1.540761  1.837462  1.170034  1.260345  1.691978\n",
      "11  1.895570  1.340688  1.064673  1.864120  1.290872\n",
      "12  1.741082  1.158034  1.694963  1.841420  1.727152\n",
      "13  1.359108  1.726690  1.139467  1.313819  1.419583\n",
      "14  1.877212  1.153740  1.880125  1.798964  1.971624\n",
      "15  1.367703  1.204940  1.240570  1.827863  1.965228\n",
      "16  1.698810  1.482497  1.287050  1.833688  1.872180\n",
      "17  1.092132  1.215949  1.831761  1.848304  1.314653\n",
      "18  1.279295  1.430815  1.539447  1.095567  1.836912\n",
      "19  1.534735  1.774968  1.230836  1.965293  1.751027\n",
      "[0.2502273494598704, 0.30109733596871885, 0.3086881285003307, 0.29405675030118417, 0.24324924464046901]\n",
      "0.3086881285003307\n",
      "Column with highest standard deviation is  c  and highest standard deviation is 0.3086881285003307\n",
      "Row with least mean is  7  and the least mean is  1.309329927047361\n"
     ]
    }
   ],
   "source": [
    "import pandas as pd\n",
    "m = 20\n",
    "n = 5\n",
    "Col_name= [\"a\", \"b\", \"c\", \"d\", \"e\"]\n",
    "Matrix = np.random.uniform(1, 2, size= (m, n))\n",
    "\n",
    "#print(Matrix)\n",
    "\n",
    "df = pd.DataFrame(Matrix, columns= [\"a\", \"b\", \"c\", \"d\", \"e\"])\n",
    "print(df)\n",
    "\n",
    "#standard deviation\n",
    "sd = []\n",
    "for i in range(n):\n",
    "    column =[]\n",
    "    for j in range(m):\n",
    "        column.append(Matrix[j][i])\n",
    "    column = np.array(column)\n",
    "    sd.append(np.std(column))\n",
    "print(sd)\n",
    "sd = list(sd)\n",
    "max_sd = max(sd)\n",
    "print(max_sd)\n",
    "\n",
    "for i in range(n):\n",
    "    if (max_sd==sd[i]):\n",
    "        index_sd = i\n",
    "        break\n",
    "\n",
    "print(\"Column with highest standard deviation is \",Col_name[index_sd], \" and highest standard deviation is\", max_sd)\n",
    "\n",
    "#Mean\n",
    "Mean=[]\n",
    "for i in Matrix:\n",
    "    Mean.append(sum(i)/5)\n",
    "    \n",
    "low_mean = min(Mean)\n",
    "for i in range(20):\n",
    "    if Mean[i]==low_mean:\n",
    "        index_mean = i\n",
    "        break\n",
    "        \n",
    "print(\"Row with least mean is \", index_mean, \" and the least mean is \", low_mean)\n"
   ]
  },
  {
   "cell_type": "markdown",
   "id": "0b627ade-470f-49b5-811f-9d2ebd78b7bb",
   "metadata": {},
   "source": [
    "# Question 11"
   ]
  },
  {
   "cell_type": "markdown",
   "id": "15822559-d052-4930-8cb8-c3545c6892c0",
   "metadata": {},
   "source": [
    "- Add a new column to the dataframe called “f” which is the sum of the columns “a”, “b”, “c”, “d”, “e”. Create another column called “g”. The value in the column “g” should be “LT8” if the value in the column “f” is less than 8 and “GT8” otherwise. Find the number of rows in the dataframe where the value in the column “g” is “LT8”. Find the standard deviation of the column “f” for the rows where the value in the column “g” is “LT8” and “GT8” respectively."
   ]
  },
  {
   "cell_type": "code",
   "execution_count": 57,
   "id": "d6b0bb6d-6fc0-4929-8cf3-0a5c6ab04179",
   "metadata": {},
   "outputs": [
    {
     "name": "stdout",
     "output_type": "stream",
     "text": [
      "Number of rows where the value in the column 'g' is 'LT8': 10\n",
      "Standard deviation of the column 'f' for the rows where the value in the column 'g' is 'LT8': 0.36087591484095727\n",
      "Standard deviation of the column 'f' for the rows where the value in the column 'g' is 'GT8': 0.2557550048870077\n"
     ]
    }
   ],
   "source": [
    "df[\"f\"] = df[[\"a\", \"b\", \"c\", \"d\", \"e\"]].sum(axis=1)\n",
    "df[\"g\"] = np.where(df[\"f\"] < 8, \"LT8\", \"GT8\")\n",
    "\n",
    "lt8_rows = df.loc[df[\"g\"] == \"LT8\"]\n",
    "num_lt8_rows = lt8_rows.shape[0]\n",
    "lt8_std = df.loc[df[\"g\"] == \"LT8\", \"f\"].std()\n",
    "gt8_std = df.loc[df[\"g\"] == \"GT8\", \"f\"].std()\n",
    "print(f\"Number of rows where the value in the column 'g' is 'LT8': {num_lt8_rows}\")\n",
    "print(f\"Standard deviation of the column 'f' for the rows where the value in the column 'g' is 'LT8': {lt8_std}\")\n",
    "print(f\"Standard deviation of the column 'f' for the rows where the value in the column 'g' is 'GT8': {gt8_std}\")"
   ]
  },
  {
   "cell_type": "markdown",
   "id": "a7ff9131-acec-4681-ace1-f15deb6198e8",
   "metadata": {},
   "source": [
    "# Question 12"
   ]
  },
  {
   "cell_type": "markdown",
   "id": "9cdb6158-2873-4e4b-8803-1500c23a4f4c",
   "metadata": {},
   "source": [
    "- Write a small piece of code to explain broadcasting in numpy."
   ]
  },
  {
   "cell_type": "markdown",
   "id": "418c429e-7b1f-4b7a-85d3-fcd3c01f808c",
   "metadata": {},
   "source": [
    "$Broadcasting:$\n",
    "\n",
    "Broadcasting is used to stretch/manipulate the size of the array to perform a particluar operation (addition or substraction). Here we add a single element to a $2\\times 2$. This single element $5$ is reshaped in such a way that we can add it to the given matrix $A$"
   ]
  },
  {
   "cell_type": "code",
   "execution_count": 58,
   "id": "843ed1f7-f1c6-49e5-a07c-efe9423db677",
   "metadata": {},
   "outputs": [
    {
     "name": "stdout",
     "output_type": "stream",
     "text": [
      "[[23  6]\n",
      " [29 56]]\n",
      "[[28 11]\n",
      " [34 61]]\n"
     ]
    }
   ],
   "source": [
    "import numpy as np\n",
    "import random\n",
    "A = np.array([[random.randint(0, 100) for j in range(2)] for i in range(2)])\n",
    "print(A)\n",
    "print(A + 5)"
   ]
  },
  {
   "cell_type": "markdown",
   "id": "b12a14a7-6205-47c8-919d-6bcbcbc155af",
   "metadata": {},
   "source": [
    "In the below code, we observe that array $A$ is of size 6 and array $B$ of size 3. But while adding both of them $B$ is resized to 6 and the addition is computed."
   ]
  },
  {
   "cell_type": "code",
   "execution_count": 59,
   "id": "97bb48e6-1358-46a1-9851-ebf88030889e",
   "metadata": {},
   "outputs": [
    {
     "name": "stdout",
     "output_type": "stream",
     "text": [
      "Array 'A': [[1 2 3]\n",
      " [4 5 6]]\n",
      "Array 'B': [7]\n",
      "Array 'C': [[ 8  9 10]\n",
      " [11 12 13]]\n"
     ]
    }
   ],
   "source": [
    "# Create a 2x3 array\n",
    "A = np.array([[1, 2, 3], [4, 5, 6]])\n",
    "print(f\"Array 'A': {A}\")\n",
    "\n",
    "# Create a 1x3 array\n",
    "B = np.array([7])\n",
    "print(f\"Array 'B': {B}\")\n",
    "\n",
    "# Add the two arrays together\n",
    "C = A + B\n",
    "print(f\"Array 'C': {C}\")"
   ]
  },
  {
   "cell_type": "markdown",
   "id": "cb2a9fa7-ba30-4b01-9812-102ff9a96775",
   "metadata": {},
   "source": [
    "# Question 13"
   ]
  },
  {
   "cell_type": "markdown",
   "id": "d4d4ae50-22a0-446b-8feb-3352a847ad02",
   "metadata": {},
   "source": [
    "- Write a function to compute the argmin of a numpy array. The function should take a numpy array as input and return the index of the minimum element. You can use the np.argmin function to verify your solution."
   ]
  },
  {
   "cell_type": "code",
   "execution_count": 60,
   "id": "c542b29c-86f1-4410-921e-9d16f842705b",
   "metadata": {},
   "outputs": [
    {
     "name": "stdout",
     "output_type": "stream",
     "text": [
      "Using inbuilt function =  13\n",
      "Manual =  13\n"
     ]
    }
   ],
   "source": [
    "def argmin(a):\n",
    "  n = len(a)\n",
    "  min = a[0]\n",
    "  idx = 0\n",
    "  for i in range(1, n):\n",
    "    if(a[i]<min):\n",
    "      min = a[i]\n",
    "      idx = i\n",
    "  return idx\n",
    "\n",
    "a = np.random.randint(low = 10, high = 100, size = (20, ))\n",
    "answer = argmin(a)\n",
    "print(\"Using inbuilt function = \",np.argmin(a))\n",
    "print(\"Manual = \",answer)"
   ]
  }
 ],
 "metadata": {
  "kernelspec": {
   "display_name": "Python 3 (ipykernel)",
   "language": "python",
   "name": "python3"
  },
  "language_info": {
   "codemirror_mode": {
    "name": "ipython",
    "version": 3
   },
   "file_extension": ".py",
   "mimetype": "text/x-python",
   "name": "python",
   "nbconvert_exporter": "python",
   "pygments_lexer": "ipython3",
   "version": "3.10.8"
  }
 },
 "nbformat": 4,
 "nbformat_minor": 5
}
